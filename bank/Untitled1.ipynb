{
 "cells": [
  {
   "cell_type": "code",
   "execution_count": 2,
   "metadata": {},
   "outputs": [],
   "source": [
    "class Solutin:\n",
    "    def validIPAddress(self,IP:str)->str:\n",
    "        #split by periods 0-255\n",
    "        ip4,ip6  = True,True\n",
    "        ip = IP.split(\".\")\n",
    "        if len(ip)==4:\n",
    "            for n in ip:\n",
    "                if not n or re.search('/D',n) or int(n)>255 or (n!=\"0\" and len(n) - len(n.lstrip(\"0\")) != 0):\n",
    "                    ip4 = False\n",
    "                    break\n",
    "        else:\n",
    "            ip4 = False\n",
    "            \n",
    "        def is_hex(s):\n",
    "            try:\n",
    "                int(s,16)\n",
    "                return True\n",
    "            except ValueError:\n",
    "                return False\n",
    "            \n",
    "        \n",
    "        ip = IP.split(\":\")\n",
    "        if len(ip) == 8:\n",
    "            for n in ip:\n",
    "                if not n or re.search('\\W',n) or len(n)>4 or not is_hex(n):\n",
    "                    ip6 = False\n",
    "                    break\n",
    "                    \n",
    "        else:\n",
    "            ip6 = False\n",
    "            \n",
    "        if ip4:\n",
    "            return \"IPv4\"\n",
    "        elif ip6:\n",
    "            return \"IPv6\"\n",
    "        else:\n",
    "            return \"Neither\"\n",
    "                    "
   ]
  },
  {
   "cell_type": "code",
   "execution_count": 3,
   "metadata": {},
   "outputs": [
    {
     "ename": "NameError",
     "evalue": "name 'raw_input' is not defined",
     "output_type": "error",
     "traceback": [
      "\u001b[1;31m---------------------------------------------------------------------------\u001b[0m",
      "\u001b[1;31mNameError\u001b[0m                                 Traceback (most recent call last)",
      "\u001b[1;32m<ipython-input-3-03aabd4e2e6b>\u001b[0m in \u001b[0;36m<module>\u001b[1;34m\u001b[0m\n\u001b[0;32m     36\u001b[0m \u001b[1;33m\u001b[0m\u001b[0m\n\u001b[0;32m     37\u001b[0m \u001b[1;31m# if it runs in Python 3, change raw_input() to input()\u001b[0m\u001b[1;33m\u001b[0m\u001b[1;33m\u001b[0m\u001b[1;33m\u001b[0m\u001b[0m\n\u001b[1;32m---> 38\u001b[1;33m \u001b[0msize\u001b[0m \u001b[1;33m=\u001b[0m \u001b[0mint\u001b[0m\u001b[1;33m(\u001b[0m\u001b[0mraw_input\u001b[0m\u001b[1;33m(\u001b[0m\u001b[1;33m)\u001b[0m\u001b[1;33m)\u001b[0m\u001b[1;33m\u001b[0m\u001b[1;33m\u001b[0m\u001b[0m\n\u001b[0m\u001b[0;32m     39\u001b[0m \u001b[0ma\u001b[0m \u001b[1;33m=\u001b[0m \u001b[0mlist\u001b[0m\u001b[1;33m(\u001b[0m\u001b[0mmap\u001b[0m\u001b[1;33m(\u001b[0m\u001b[0mint\u001b[0m\u001b[1;33m,\u001b[0m \u001b[0mraw_input\u001b[0m\u001b[1;33m(\u001b[0m\u001b[1;33m)\u001b[0m\u001b[1;33m.\u001b[0m\u001b[0msplit\u001b[0m\u001b[1;33m(\u001b[0m\u001b[1;33m)\u001b[0m\u001b[1;33m)\u001b[0m\u001b[1;33m)\u001b[0m\u001b[1;33m\u001b[0m\u001b[1;33m\u001b[0m\u001b[0m\n\u001b[0;32m     40\u001b[0m \u001b[0mprint\u001b[0m\u001b[1;33m(\u001b[0m\u001b[0mgetMean\u001b[0m\u001b[1;33m(\u001b[0m\u001b[0ma\u001b[0m\u001b[1;33m)\u001b[0m\u001b[1;33m)\u001b[0m\u001b[1;33m\u001b[0m\u001b[1;33m\u001b[0m\u001b[0m\n",
      "\u001b[1;31mNameError\u001b[0m: name 'raw_input' is not defined"
     ]
    }
   ],
   "source": [
    "def getMean(list):\n",
    "    sum = 0\n",
    "    for i in list:\n",
    "        sum += i\n",
    "    mean = float(sum) / len(list)\n",
    "    return mean\n",
    "\n",
    "def getMedian(list):\n",
    "    median = 0.0\n",
    "    size = len(list)\n",
    "    copy = list\n",
    "    copy.sort()\n",
    "    if(size % 2 == 0):\n",
    "        median = float(copy[size//2 - 1] + copy[size//2]) / 2\n",
    "    else:\n",
    "        median = copy[(size-1)/2]\n",
    "    return median\n",
    "\n",
    "def getMode(list):\n",
    "    mode = 0\n",
    "    size = len(list)\n",
    "    count, max = 0, 0\n",
    "    copy = list\n",
    "    copy.sort()\n",
    "    current = 0\n",
    "    for i in copy:\n",
    "        if (i == current):\n",
    "            count += 1\n",
    "        else:\n",
    "            count = 1\n",
    "            current = i\n",
    "        if (count > max):\n",
    "            max = count\n",
    "            mode = i\n",
    "    return mode\n",
    "\n",
    "# if it runs in Python 3, change raw_input() to input()\n",
    "size = int(raw_input())\n",
    "a = list(map(int, raw_input().split()))\n",
    "print(getMean(a))\n",
    "print(getMedian(a))\n",
    "print(getMode(a))"
   ]
  },
  {
   "cell_type": "code",
   "execution_count": null,
   "metadata": {},
   "outputs": [],
   "source": []
  }
 ],
 "metadata": {
  "kernelspec": {
   "display_name": "Python 3",
   "language": "python",
   "name": "python3"
  },
  "language_info": {
   "codemirror_mode": {
    "name": "ipython",
    "version": 3
   },
   "file_extension": ".py",
   "mimetype": "text/x-python",
   "name": "python",
   "nbconvert_exporter": "python",
   "pygments_lexer": "ipython3",
   "version": "3.8.3"
  }
 },
 "nbformat": 4,
 "nbformat_minor": 4
}
